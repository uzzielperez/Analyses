{
 "cells": [
  {
   "cell_type": "code",
   "execution_count": 1,
   "metadata": {
    "collapsed": false
   },
   "outputs": [
    {
     "name": "stdout",
     "output_type": "stream",
     "text": [
      "Welcome to JupyROOT 6.10/05\n"
     ]
    }
   ],
   "source": [
    "import ROOT\n",
    "from ROOT import TClass,TKey, TIter,TCanvas, TPad,TFile, TPaveText, TColor, TGaxis, TH1F, TPad, TH1D, TLegend\n",
    "#from ROOT import kBlack, kBlue, kRed, kGreen, kMagenta, kCyan, kOrange, kViolet, kSpring\n",
    "from ROOT import kBlue, kOrange, kCyan, kRed, kMagenta, kGreen, kViolet, kSpring, kPink, kAzure\n",
    "from ROOT import gBenchmark, gStyle, gROOT, gDirectory"
   ]
  },
  {
   "cell_type": "code",
   "execution_count": 2,
   "metadata": {
    "collapsed": true
   },
   "outputs": [],
   "source": [
    "import re\n",
    "import sys\n",
    "CMSlumiPath = '/uscms_data/d3/cuperez/CMSSW_8_0_25/src/scripts/pyroot'\n",
    "sys.path.append(CMSlumiPath)\n",
    "from CMSlumi import CMS_lumi, set_CMS_lumi\n",
    "\n",
    "from Plotfunctions import PlotDatasets"
   ]
  },
  {
   "cell_type": "code",
   "execution_count": 3,
   "metadata": {
    "collapsed": true
   },
   "outputs": [],
   "source": [
    "LambdaT = \"ALL\"\n",
    "SMPythia8 = True\n",
    "SM = False\n",
    "ADD = True"
   ]
  },
  {
   "cell_type": "code",
   "execution_count": 4,
   "metadata": {
    "collapsed": true
   },
   "outputs": [],
   "source": [
    "tag = \"b\"\n",
    "zoom = False\n",
    "#drawstyle = \"hist, same\"\n",
    "drawstyle = \"same\"\n",
    "intlumi = 130"
   ]
  },
  {
   "cell_type": "code",
   "execution_count": 5,
   "metadata": {
    "collapsed": true
   },
   "outputs": [],
   "source": [
    "obj = \"gendiphotonMinv\"\n",
    "#obj = \"gendiphotoncosthetastar\"\n",
    "#obj = \"genchidiphoton\"\n",
    "#obj = \"genphoton1Eta\"\n",
    "#obj = \"genphoton2Eta\""
   ]
  },
  {
   "cell_type": "code",
   "execution_count": 6,
   "metadata": {
    "collapsed": true
   },
   "outputs": [],
   "source": [
    "DATASET = []\n",
    "DATASET.append(\"../isEBEB/OUTSM_M1000.root\")\n",
    "#DATASET.append(\"../isEBEB/OUTSM_M1500.root\")\n",
    "#DATASET.append(\"../isEBEB/OUTSM_M2000.root\")\n",
    "DATASET.append(\"../isEBEB/OUTUnp_LU1500_du1p8_spin0_ggffONM1000.root\")\n",
    "#DATASET.append(\"../isEBEB/OUTUnp_LU1500_du1p8_spin0_ggffONM1500.root\")\n",
    "DATASET.append(\"../isEBEB/OUTUnp_LU1500_du1p8_spin2_ggONM1000.root\")\n",
    "#DATASET.append(\"../isEBEB/OUTUnp_LU1500_du1p8_spin2_ggONM1500.root\")\n",
    "DATASET.append(\"../isEBEB/OUTUnp_LU4500_du1p01_spin2_ggONM1500.root\") #this is actually 1000"
   ]
  },
  {
   "cell_type": "code",
   "execution_count": 7,
   "metadata": {
    "collapsed": true
   },
   "outputs": [],
   "source": [
    "# Draw Options\n",
    "DrawAsHi = False\n",
    "gStyle.SetOptStat(0)"
   ]
  },
  {
   "cell_type": "code",
   "execution_count": 8,
   "metadata": {
    "collapsed": false,
    "scrolled": true
   },
   "outputs": [
    {
     "name": "stdout",
     "output_type": "stream",
     "text": [
      "[('1500', '1p8', '1500')]\n",
      "[('1500', '1p8', '1500')]\n",
      "[0.14455951899999891, 0.18265478399999913, 0.7308849930000061]\n"
     ]
    },
    {
     "name": "stderr",
     "output_type": "stream",
     "text": [
      "Info in <TCanvas::Print>: pdf file LOG130_SMvsADD_ALLfb-1_gendiphotonMinv.pdf has been created\n"
     ]
    },
    {
     "data": {
      "image/png": "[encoded data removed]",
      "text/plain": [
       "<IPython.core.display.Image object>"
      ]
     },
     "metadata": {},
     "output_type": "display_data"
    }
   ],
   "source": [
    "PlotDatasets(\"gendiphotonMinv\", DATASET)"
   ]
  },
  {
   "cell_type": "code",
   "execution_count": 9,
   "metadata": {
    "collapsed": false
   },
   "outputs": [
    {
     "name": "stdout",
     "output_type": "stream",
     "text": [
      "[('1500', '1p8', '1500')]\n",
      "[('1500', '1p8', '1500')]\n",
      "[0.009692293000000001, 0.018148391999999992, 0.08928787000000007]\n"
     ]
    },
    {
     "name": "stderr",
     "output_type": "stream",
     "text": [
      "Info in <TCanvas::Print>: pdf file LOG130_SMvsADD_ALLfb-1_gendiphotoncosthetastar.pdf has been created\n"
     ]
    },
    {
     "data": {
      "image/png": "[encoded data removed]",
      "text/plain": [
       "<IPython.core.display.Image object>"
      ]
     },
     "metadata": {},
     "output_type": "display_data"
    }
   ],
   "source": [
    "PlotDatasets(\"gendiphotoncosthetastar\", DATASET)"
   ]
  },
  {
   "cell_type": "code",
   "execution_count": null,
   "metadata": {
    "collapsed": true
   },
   "outputs": [],
   "source": []
  },
  {
   "cell_type": "code",
   "execution_count": null,
   "metadata": {
    "collapsed": false
   },
   "outputs": [],
   "source": []
  },
  {
   "cell_type": "code",
   "execution_count": null,
   "metadata": {
    "collapsed": false
   },
   "outputs": [],
   "source": []
  },
  {
   "cell_type": "code",
   "execution_count": null,
   "metadata": {
    "collapsed": true
   },
   "outputs": [],
   "source": []
  }
 ],
 "metadata": {
  "kernelspec": {
   "display_name": "Python 2",
   "language": "python",
   "name": "python2"
  },
  "language_info": {
   "codemirror_mode": {
    "name": "ipython",
    "version": 2
   },
   "file_extension": ".py",
   "mimetype": "text/x-python",
   "name": "python",
   "nbconvert_exporter": "python",
   "pygments_lexer": "ipython2",
   "version": "2.7.11"
  }
 },
 "nbformat": 4,
 "nbformat_minor": 2
}
